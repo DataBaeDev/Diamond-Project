{
  "nbformat": 4,
  "nbformat_minor": 0,
  "metadata": {
    "colab": {
      "provenance": [],
      "mount_file_id": "13cP8-kHp_7j5_tzIz9l2MOW-Cod2Jf4b",
      "authorship_tag": "ABX9TyNwJqM7gcn/hMl4x7cHsehW",
      "include_colab_link": true
    },
    "kernelspec": {
      "name": "python3",
      "display_name": "Python 3"
    },
    "language_info": {
      "name": "python"
    }
  },
  "cells": [
    {
      "cell_type": "markdown",
      "metadata": {
        "id": "view-in-github",
        "colab_type": "text"
      },
      "source": [
        "<a href=\"https://colab.research.google.com/github/DataBaeDev/Diamond-Project/blob/main/Diamond_Machine_Learning_Testing.ipynb\" target=\"_parent\"><img src=\"https://colab.research.google.com/assets/colab-badge.svg\" alt=\"Open In Colab\"/></a>"
      ]
    },
    {
      "cell_type": "markdown",
      "source": [
        "# Model Testing\n",
        "Import Libraries & Models"
      ],
      "metadata": {
        "id": "5GnAK37eyYhF"
      }
    },
    {
      "cell_type": "code",
      "execution_count": 1,
      "metadata": {
        "id": "a1qA7aTe55qa"
      },
      "outputs": [],
      "source": [
        "import numpy as np\n",
        "import random\n",
        "import pickle\n",
        "from sklearn.linear_model import LinearRegression"
      ]
    },
    {
      "cell_type": "code",
      "source": [
        "vol_linear_reg_model = pickle.load(open('/content/drive/MyDrive/Predictive Analytics/DiamondProject/approx vol_model.pkl', 'rb'))\n",
        "knn_clf_model = pickle.load(open('/content/drive/MyDrive/Predictive Analytics/DiamondProject/knn_clf_model.pkl', 'rb'))"
      ],
      "metadata": {
        "id": "hquGfLmp24jB"
      },
      "execution_count": 2,
      "outputs": []
    },
    {
      "cell_type": "markdown",
      "source": [
        "Diamond Volume Linear Regression Model<br>\n",
        "\n",
        "This test generates a random diamond volume and uses the model to predict the price of the diamond."
      ],
      "metadata": {
        "id": "GBE-p6VU0NOc"
      }
    },
    {
      "cell_type": "code",
      "source": [
        "diamond_vol = np.array([[round(random.uniform(30.0, 4000), 2)]])\n",
        "price_prediction = vol_linear_reg_model.predict(diamond_vol)\n",
        "print(f\"The model predicts that a diamond approximately {diamond_vol[0, 0]} mm in volume will be priced at ${round(price_prediction[0])}.\")"
      ],
      "metadata": {
        "colab": {
          "base_uri": "https://localhost:8080/"
        },
        "id": "u354r8cz1KrA",
        "outputId": "777fd73c-eb8c-4ab4-eb28-82ca2f32669c"
      },
      "execution_count": 3,
      "outputs": [
        {
          "output_type": "stream",
          "name": "stdout",
          "text": [
            "The model predicts that a diamond approximately 2192.55 mm in volume will be priced at $97168.\n"
          ]
        }
      ]
    },
    {
      "cell_type": "markdown",
      "source": [
        "KNN Classifier Model\n",
        "\n",
        "This test generates random values for depth, table, and length/width ratio and uses the values to classify the diamond's cut."
      ],
      "metadata": {
        "id": "2TvpdK3J0WJy"
      }
    },
    {
      "cell_type": "code",
      "source": [
        "depth = round(random.uniform(43, 79), 2)\n",
        "table = round(random.uniform(43, 95), 2)\n",
        "lw_ratio = round(random.uniform(.1, 2), 2)\n",
        "\n",
        "map={0: 'Fair',\n",
        "     1: 'Good',\n",
        "     2: 'Very Good',\n",
        "     3: 'Premium',\n",
        "     4: 'Ideal'}\n",
        "\n",
        "# np.array([[depth, table, lw_ratio]])\n",
        "cut = knn_clf_model.predict(np.array([[depth, table, lw_ratio]]))\n",
        "cut = cut.item()\n",
        "print(f\"\"\"The model predicts that a diamond with the following proportions:\n",
        "\n",
        "      Depth: {depth}\n",
        "      Table: {table}\n",
        "      Length/Width Ratio: {lw_ratio}\n",
        "\n",
        "will be in the {map[cut]} category.\"\"\")"
      ],
      "metadata": {
        "colab": {
          "base_uri": "https://localhost:8080/"
        },
        "id": "pKJbRPnSEHLd",
        "outputId": "f10da1ff-1776-44db-cad3-0da75e589973"
      },
      "execution_count": 4,
      "outputs": [
        {
          "output_type": "stream",
          "name": "stdout",
          "text": [
            "The model predicts that a diamond with the following proportions:\n",
            "\n",
            "      Depth: 50.12 \n",
            "      Table: 57.61\n",
            "      Length/Width Ratio: 1.74\n",
            "      \n",
            "will be in the Fair category.\n"
          ]
        }
      ]
    }
  ]
}